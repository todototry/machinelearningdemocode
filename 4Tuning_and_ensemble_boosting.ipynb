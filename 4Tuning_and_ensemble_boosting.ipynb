{
 "cells": [
  {
   "cell_type": "code",
   "execution_count": 1,
   "metadata": {
    "collapsed": true
   },
   "outputs": [],
   "source": [
    "# 调参原理，各个模型的关键参数\n",
    "# 1. 参数调优方法： parameter tuning.\n",
    "# 2. 调参工具与针对各类模型的经验技巧： \n",
    "# 3. 调参的本质: 降低偏差(bias) 与 降低方差(var)的大和谐, 各类模型的重要参数分别是什么?\n",
    "\n",
    "# 4. ensemble理论上的可行性，ensemble的本质\n",
    "# 5. ensemble的分类及其分类本质、原理：boosting、bagging、stacking，\n",
    "# 6. 3类ensemble方法的特点\n",
    "# 7. 参考：周志华《ensemble methods》 、 <kaggle ensemble guide> 、<Complete Guide to Parameter Tuning in Gradient Boosting (GBM)>\n",
    "\n"
   ]
  },
  {
   "cell_type": "code",
   "execution_count": null,
   "metadata": {
    "collapsed": true
   },
   "outputs": [],
   "source": []
  },
  {
   "cell_type": "code",
   "execution_count": null,
   "metadata": {
    "collapsed": true
   },
   "outputs": [],
   "source": []
  },
  {
   "cell_type": "code",
   "execution_count": 2,
   "metadata": {
    "collapsed": false
   },
   "outputs": [
    {
     "name": "stdout",
     "output_type": "stream",
     "text": [
      "Sun Oct 30 2016 \n",
      "\n",
      "CPython 2.7.11\n",
      "IPython 4.1.2\n",
      "\n",
      "numpy 1.10.4\n",
      "scipy 0.17.0\n",
      "pandas 0.18.0\n",
      "matplotlib 1.5.1\n",
      "seaborn 0.7.1\n",
      "sklearn 0.17.1\n",
      "theano 0.8.2\n",
      "\n",
      "compiler   : GCC 4.2.1 (Apple Inc. build 5577)\n",
      "system     : Darwin\n",
      "release    : 14.5.0\n",
      "machine    : x86_64\n",
      "processor  : i386\n",
      "CPU cores  : 8\n",
      "interpreter: 64bit\n"
     ]
    }
   ],
   "source": [
    "%load_ext watermark\n",
    "%watermark -nmv -p numpy,scipy,pandas,matplotlib,seaborn,sklearn,theano"
   ]
  }
 ],
 "metadata": {
  "kernelspec": {
   "display_name": "Python 2",
   "language": "python",
   "name": "python2"
  },
  "language_info": {
   "codemirror_mode": {
    "name": "ipython",
    "version": 2
   },
   "file_extension": ".py",
   "mimetype": "text/x-python",
   "name": "python",
   "nbconvert_exporter": "python",
   "pygments_lexer": "ipython2",
   "version": "2.7.11"
  }
 },
 "nbformat": 4,
 "nbformat_minor": 0
}
