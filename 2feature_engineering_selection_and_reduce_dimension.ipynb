{
 "cells": [
  {
   "cell_type": "code",
   "execution_count": 1,
   "metadata": {
    "collapsed": true
   },
   "outputs": [],
   "source": [
    "# 特征工程之：0.特征清洗 与 特征转换 2.选择  3.降维 4.特征组合方法  5. 特征组合后筛选\n",
    "\n",
    "# 0. 特征清洗（详见上一个ipython notebook）\n",
    "\n",
    "# 1. 特征转换： （详见上一个ipython notebook）\n",
    "#    1. 基本函数转换、\n",
    "#    2. 多项式转换，\n",
    "#    3. 高维空间转换，\n",
    "#    4. ANN CNN等模型自动转换\n",
    "\n",
    "# 2. Filter选择法\n",
    "#    1. pearson\n",
    "#    2. cors  \n",
    "#    3. mic\n",
    "\n",
    "# 2. Wrapper选择法\n",
    "\n",
    "\n",
    "# 3. Enbeded选择法\n",
    "\n",
    "\n",
    "# 4. 降维方法：无监督降维\n",
    "#    1. PCA\n",
    "#    2. 深度学习之autoencoder\n",
    "\n",
    "\n",
    "# 5. 有监督降维法：\n",
    "#    1. LDA（linear discriminant  analysis） \n",
    "\n",
    "\n",
    "# 6. 特征组合\n",
    "\n",
    "\n",
    "# 7. 特征组合后的筛选\n"
   ]
  },
  {
   "cell_type": "code",
   "execution_count": null,
   "metadata": {
    "collapsed": true
   },
   "outputs": [],
   "source": []
  },
  {
   "cell_type": "code",
   "execution_count": null,
   "metadata": {
    "collapsed": true
   },
   "outputs": [],
   "source": []
  }
 ],
 "metadata": {
  "kernelspec": {
   "display_name": "Python 2",
   "language": "python",
   "name": "python2"
  },
  "language_info": {
   "codemirror_mode": {
    "name": "ipython",
    "version": 2
   },
   "file_extension": ".py",
   "mimetype": "text/x-python",
   "name": "python",
   "nbconvert_exporter": "python",
   "pygments_lexer": "ipython2",
   "version": "2.7.11"
  }
 },
 "nbformat": 4,
 "nbformat_minor": 0
}
