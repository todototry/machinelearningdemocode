{
 "cells": [
  {
   "cell_type": "code",
   "execution_count": 2,
   "metadata": {
    "collapsed": true
   },
   "outputs": [],
   "source": [
    "%matplotlib inline"
   ]
  },
  {
   "cell_type": "code",
   "execution_count": 6,
   "metadata": {
    "collapsed": false
   },
   "outputs": [
    {
     "data": {
      "image/png": "[encoded data removed]",
      "text/plain": [
       "<matplotlib.figure.Figure at 0x1059b1350>"
      ]
     },
     "metadata": {},
     "output_type": "display_data"
    }
   ],
   "source": [
    "# how to load the mnist dataset, how to plot the handwriting images.\n",
    "import numpy as np\n",
    "from matplotlib import pyplot as plt\n",
    "import gzip\n",
    "\n",
    "fimage = gzip.open('./data/train-images-idx3-ubyte.gz','rb')\n",
    "#skip the header\n",
    "fimage.read(16)\n",
    "\n",
    "# read the first image, which size=784\n",
    "img1 = fimage.read(784)\n",
    "listImage = list(img1)\n",
    "\n",
    "# convert char to int\n",
    "listImage10 = map(lambda x:ord(x),listImage)\n",
    "\n",
    "# convert list to buffer (byte array)\n",
    "buf = bytearray(listImage10)\n",
    "\n",
    "# convert to ndarray in numpy\n",
    "# uint8 \n",
    "ndimg  = np.ndarray((28,28),dtype=np.uint8,buffer=buf)  \n",
    "plt.imshow(ndimg,cmap='gray')\n",
    "\n",
    "# plt.imshow(ndimg,cmap=plt.cm.gray)\n",
    "fimage.close()"
   ]
  },
  {
   "cell_type": "code",
   "execution_count": 7,
   "metadata": {
    "collapsed": true
   },
   "outputs": [],
   "source": [
    "# define method for loading mnist dataset in .gz format\n",
    "# return ndarray of numpy\n",
    "import gzip\n",
    "import numpy as np\n",
    "from matplotlib import pyplot as plt\n",
    "import six\n",
    "\n",
    "train_images = './data/train-images-idx3-ubyte.gz'\n",
    "train_labels = './data/train-labels-idx1-ubyte.gz'\n",
    "test_images = './data/t10k-images-idx3-ubyte.gz'\n",
    "test_labels = './data/t10k-labels-idx1-ubyte.gz'\n",
    "dim=784\n",
    "train_num = 60000\n",
    "test_num = 10000\n",
    "\n",
    "def load_mnist(images, labels, dim, num):\n",
    "    data = np.zeros(num * dim, dtype=np.uint8).reshape((num, dim))\n",
    "    target = np.zeros(num, dtype=np.uint8).reshape((num, ))\n",
    "\n",
    "    with gzip.open(images, 'rb') as f_images,\\\n",
    "            gzip.open(labels, 'rb') as f_labels:\n",
    "        f_images.read(16) # skip file header ?\n",
    "        f_labels.read(8)  # skip file header ?\n",
    "        for i in six.moves.range(num):\n",
    "            target[i] = ord(f_labels.read(1))\n",
    "            for j in six.moves.range(dim):\n",
    "                data[i, j] = ord(f_images.read(1))\n",
    "\n",
    "    return data, target"
   ]
  },
  {
   "cell_type": "code",
   "execution_count": 8,
   "metadata": {
    "collapsed": false
   },
   "outputs": [],
   "source": [
    "# load train data.\n",
    "data,target = load_mnist(train_images,train_labels,dim, train_num)\n",
    "plt.imshow(data[0].reshape(28,28),cmap='gray')\n",
    "# load test data.\n",
    "test_data,test_target = load_mnist(test_images,test_labels,dim, test_num)"
   ]
  },
  {
   "cell_type": "code",
   "execution_count": 24,
   "metadata": {
    "collapsed": false
   },
   "outputs": [],
   "source": [
    "def convert2pickle():\n",
    "    print('Converting training data...')\n",
    "    data_train, target_train = load_mnist(train_images,train_labels,dim, train_num)\n",
    "    print('Done')\n",
    "    print('Converting test data...')\n",
    "    data_test, target_test = load_mnist(test_images,test_labels,dim, test_num)\n",
    "    mnist = {'data': np.append(data_train, data_test, axis=0),\n",
    "             'target': np.append(target_train, target_test, axis=0)}\n",
    "    print('Done')\n",
    "    print('Save output...')\n",
    "    with open('gen_mnist.pkl', 'wb') as output:\n",
    "        six.moves.cPickle.dump(mnist, output, -1)\n",
    "    print('Done')\n",
    "    print('Convert completed')"
   ]
  },
  {
   "cell_type": "code",
   "execution_count": 25,
   "metadata": {
    "collapsed": false
   },
   "outputs": [
    {
     "name": "stdout",
     "output_type": "stream",
     "text": [
      "Converting training data...\n",
      "Done\n",
      "Converting test data...\n",
      "Done\n",
      "Save output...\n",
      "Done\n",
      "Convert completed\n"
     ]
    }
   ],
   "source": [
    "convert2pickle()"
   ]
  },
  {
   "cell_type": "code",
   "execution_count": 27,
   "metadata": {
    "collapsed": true
   },
   "outputs": [],
   "source": [
    "def load_mnist_data(filename='mnist.pkl'):\n",
    "    with open(filename, 'rb') as mnist_pickle:\n",
    "        mnist = six.moves.cPickle.load(mnist_pickle)\n",
    "    return mnist"
   ]
  },
  {
   "cell_type": "code",
   "execution_count": 29,
   "metadata": {
    "collapsed": true
   },
   "outputs": [],
   "source": [
    "mnist = load_mnist_data()"
   ]
  },
  {
   "cell_type": "code",
   "execution_count": 31,
   "metadata": {
    "collapsed": false,
    "scrolled": false
   },
   "outputs": [
    {
     "data": {
      "text/plain": [
       "<matplotlib.image.AxesImage at 0x112aeef10>"
      ]
     },
     "execution_count": 31,
     "metadata": {},
     "output_type": "execute_result"
    },
    {
     "data": {
      "image/png": "[encoded data removed]",
      "text/plain": [
       "<matplotlib.figure.Figure at 0x1162c61d0>"
      ]
     },
     "metadata": {},
     "output_type": "display_data"
    }
   ],
   "source": [
    "# show image in mnist sample \n",
    "img = mnist['data'][0]\n",
    "plt.imshow(img.reshape((28,28)), cmap=plt.cm.gray)"
   ]
  },
  {
   "cell_type": "code",
   "execution_count": 2,
   "metadata": {
    "collapsed": false
   },
   "outputs": [
    {
     "ename": "SyntaxError",
     "evalue": "invalid syntax (<ipython-input-2-238c016655eb>, line 17)",
     "output_type": "error",
     "traceback": [
      "\u001b[0;36m  File \u001b[0;32m\"<ipython-input-2-238c016655eb>\"\u001b[0;36m, line \u001b[0;32m17\u001b[0m\n\u001b[0;31m    print loss_and_metrics\u001b[0m\n\u001b[0m                         ^\u001b[0m\n\u001b[0;31mSyntaxError\u001b[0m\u001b[0;31m:\u001b[0m invalid syntax\n"
     ]
    }
   ],
   "source": [
    "import keras\n",
    "from keras.models import Sequential\n",
    "from keras.layers import Dense,Activation\n",
    "\n",
    "model = Sequential([Dense(32, input_dim=784), \n",
    "                   Activation('relu'),\n",
    "                   Dense(output_dim=10),\n",
    "                   Activation('softmax'),])\n",
    "\n",
    "from keras.optimizers import SGD\n",
    "model.compile(loss='categorical_crossentropy', optimizer='sgd', metrics=['accuracy'])\n",
    "\n",
    "model.fit(data, target, nb_epoch=5, batch_size=32)\n",
    "\n",
    "loss_and_metrics = model.evaluate(test_data, test_target, batch_size=32)\n",
    "\n",
    "print loss_and_metrics"
   ]
  },
  {
   "cell_type": "code",
   "execution_count": 14,
   "metadata": {
    "collapsed": false,
    "scrolled": true
   },
   "outputs": [
    {
     "data": {
      "text/plain": [
       "((array([[[0, 0, 0, ..., 0, 0, 0],\n",
       "          [0, 0, 0, ..., 0, 0, 0],\n",
       "          [0, 0, 0, ..., 0, 0, 0],\n",
       "          ..., \n",
       "          [0, 0, 0, ..., 0, 0, 0],\n",
       "          [0, 0, 0, ..., 0, 0, 0],\n",
       "          [0, 0, 0, ..., 0, 0, 0]],\n",
       "  \n",
       "         [[0, 0, 0, ..., 0, 0, 0],\n",
       "          [0, 0, 0, ..., 0, 0, 0],\n",
       "          [0, 0, 0, ..., 0, 0, 0],\n",
       "          ..., \n",
       "          [0, 0, 0, ..., 0, 0, 0],\n",
       "          [0, 0, 0, ..., 0, 0, 0],\n",
       "          [0, 0, 0, ..., 0, 0, 0]],\n",
       "  \n",
       "         [[0, 0, 0, ..., 0, 0, 0],\n",
       "          [0, 0, 0, ..., 0, 0, 0],\n",
       "          [0, 0, 0, ..., 0, 0, 0],\n",
       "          ..., \n",
       "          [0, 0, 0, ..., 0, 0, 0],\n",
       "          [0, 0, 0, ..., 0, 0, 0],\n",
       "          [0, 0, 0, ..., 0, 0, 0]],\n",
       "  \n",
       "         ..., \n",
       "         [[0, 0, 0, ..., 0, 0, 0],\n",
       "          [0, 0, 0, ..., 0, 0, 0],\n",
       "          [0, 0, 0, ..., 0, 0, 0],\n",
       "          ..., \n",
       "          [0, 0, 0, ..., 0, 0, 0],\n",
       "          [0, 0, 0, ..., 0, 0, 0],\n",
       "          [0, 0, 0, ..., 0, 0, 0]],\n",
       "  \n",
       "         [[0, 0, 0, ..., 0, 0, 0],\n",
       "          [0, 0, 0, ..., 0, 0, 0],\n",
       "          [0, 0, 0, ..., 0, 0, 0],\n",
       "          ..., \n",
       "          [0, 0, 0, ..., 0, 0, 0],\n",
       "          [0, 0, 0, ..., 0, 0, 0],\n",
       "          [0, 0, 0, ..., 0, 0, 0]],\n",
       "  \n",
       "         [[0, 0, 0, ..., 0, 0, 0],\n",
       "          [0, 0, 0, ..., 0, 0, 0],\n",
       "          [0, 0, 0, ..., 0, 0, 0],\n",
       "          ..., \n",
       "          [0, 0, 0, ..., 0, 0, 0],\n",
       "          [0, 0, 0, ..., 0, 0, 0],\n",
       "          [0, 0, 0, ..., 0, 0, 0]]], dtype=uint8),\n",
       "  array([5, 0, 4, ..., 5, 6, 8], dtype=uint8)),\n",
       " (array([[[0, 0, 0, ..., 0, 0, 0],\n",
       "          [0, 0, 0, ..., 0, 0, 0],\n",
       "          [0, 0, 0, ..., 0, 0, 0],\n",
       "          ..., \n",
       "          [0, 0, 0, ..., 0, 0, 0],\n",
       "          [0, 0, 0, ..., 0, 0, 0],\n",
       "          [0, 0, 0, ..., 0, 0, 0]],\n",
       "  \n",
       "         [[0, 0, 0, ..., 0, 0, 0],\n",
       "          [0, 0, 0, ..., 0, 0, 0],\n",
       "          [0, 0, 0, ..., 0, 0, 0],\n",
       "          ..., \n",
       "          [0, 0, 0, ..., 0, 0, 0],\n",
       "          [0, 0, 0, ..., 0, 0, 0],\n",
       "          [0, 0, 0, ..., 0, 0, 0]],\n",
       "  \n",
       "         [[0, 0, 0, ..., 0, 0, 0],\n",
       "          [0, 0, 0, ..., 0, 0, 0],\n",
       "          [0, 0, 0, ..., 0, 0, 0],\n",
       "          ..., \n",
       "          [0, 0, 0, ..., 0, 0, 0],\n",
       "          [0, 0, 0, ..., 0, 0, 0],\n",
       "          [0, 0, 0, ..., 0, 0, 0]],\n",
       "  \n",
       "         ..., \n",
       "         [[0, 0, 0, ..., 0, 0, 0],\n",
       "          [0, 0, 0, ..., 0, 0, 0],\n",
       "          [0, 0, 0, ..., 0, 0, 0],\n",
       "          ..., \n",
       "          [0, 0, 0, ..., 0, 0, 0],\n",
       "          [0, 0, 0, ..., 0, 0, 0],\n",
       "          [0, 0, 0, ..., 0, 0, 0]],\n",
       "  \n",
       "         [[0, 0, 0, ..., 0, 0, 0],\n",
       "          [0, 0, 0, ..., 0, 0, 0],\n",
       "          [0, 0, 0, ..., 0, 0, 0],\n",
       "          ..., \n",
       "          [0, 0, 0, ..., 0, 0, 0],\n",
       "          [0, 0, 0, ..., 0, 0, 0],\n",
       "          [0, 0, 0, ..., 0, 0, 0]],\n",
       "  \n",
       "         [[0, 0, 0, ..., 0, 0, 0],\n",
       "          [0, 0, 0, ..., 0, 0, 0],\n",
       "          [0, 0, 0, ..., 0, 0, 0],\n",
       "          ..., \n",
       "          [0, 0, 0, ..., 0, 0, 0],\n",
       "          [0, 0, 0, ..., 0, 0, 0],\n",
       "          [0, 0, 0, ..., 0, 0, 0]]], dtype=uint8),\n",
       "  array([7, 2, 1, ..., 4, 5, 6], dtype=uint8)))"
      ]
     },
     "execution_count": 14,
     "metadata": {},
     "output_type": "execute_result"
    }
   ],
   "source": [
    "# download minist \n",
    "from keras.datasets import mnist as mnist_dataset\n",
    "mnist_dataset.load_data()"
   ]
  },
  {
   "cell_type": "code",
   "execution_count": null,
   "metadata": {
    "collapsed": true
   },
   "outputs": [],
   "source": [
    "\"\"\"\n",
    "machine learning 详细基础\n",
    "1. 学习理解机器学习 模式分类 ：https://github.com/rasbt/pattern_classification\n",
    "2. andrew ng 写的ufldl深度学习教程demo code ： https://github.com/jatinshah/ufldl_tutorial\n",
    "\n",
    "\"\"\"\n"
   ]
  },
  {
   "cell_type": "code",
   "execution_count": 5,
   "metadata": {
    "collapsed": false,
    "scrolled": true
   },
   "outputs": [
    {
     "name": "stdout",
     "output_type": "stream",
     "text": [
      "X_train shape: (60000, 1, 28, 28)\n",
      "60000 train samples\n",
      "10000 test samples\n",
      "Train on 60000 samples, validate on 10000 samples\n",
      "Epoch 1/12\n",
      "60000/60000 [==============================] - 148s - loss: 0.3937 - acc: 0.8805 - val_loss: 0.1001 - val_acc: 0.9684\n",
      "Epoch 2/12\n",
      "60000/60000 [==============================] - 147s - loss: 0.1476 - acc: 0.9566 - val_loss: 0.0652 - val_acc: 0.9801\n",
      "Epoch 3/12\n",
      "60000/60000 [==============================] - 150s - loss: 0.1114 - acc: 0.9672 - val_loss: 0.0523 - val_acc: 0.9834\n",
      "Epoch 4/12\n",
      "60000/60000 [==============================] - 150s - loss: 0.0932 - acc: 0.9720 - val_loss: 0.0456 - val_acc: 0.9847\n",
      "Epoch 5/12\n",
      "60000/60000 [==============================] - 149s - loss: 0.0808 - acc: 0.9760 - val_loss: 0.0412 - val_acc: 0.9862\n",
      "Epoch 6/12\n",
      "60000/60000 [==============================] - 147s - loss: 0.0716 - acc: 0.9785 - val_loss: 0.0399 - val_acc: 0.9872\n",
      "Epoch 7/12\n",
      "60000/60000 [==============================] - 148s - loss: 0.0662 - acc: 0.9811 - val_loss: 0.0359 - val_acc: 0.9879\n",
      "Epoch 8/12\n",
      "60000/60000 [==============================] - 147s - loss: 0.0602 - acc: 0.9814 - val_loss: 0.0352 - val_acc: 0.9889\n",
      "Epoch 9/12\n",
      "60000/60000 [==============================] - 147s - loss: 0.0554 - acc: 0.9829 - val_loss: 0.0312 - val_acc: 0.9901\n",
      "Epoch 10/12\n",
      "60000/60000 [==============================] - 160s - loss: 0.0540 - acc: 0.9840 - val_loss: 0.0324 - val_acc: 0.9900\n",
      "Epoch 11/12\n",
      "60000/60000 [==============================] - 150s - loss: 0.0510 - acc: 0.9849 - val_loss: 0.0318 - val_acc: 0.9897\n",
      "Epoch 12/12\n",
      "60000/60000 [==============================] - 149s - loss: 0.0491 - acc: 0.9857 - val_loss: 0.0355 - val_acc: 0.9886\n",
      "Test score: 0.0354911439304\n",
      "Test accuracy: 0.9886\n"
     ]
    }
   ],
   "source": [
    "\n",
    "'''Trains a simple deep NN on the MNIST dataset.\n",
    "Gets to 98.40% test accuracy after 20 epochs\n",
    "(there is *a lot* of margin for parameter tuning).\n",
    "2 seconds per epoch on a K520 GPU.\n",
    "'''\n",
    "from __future__ import print_function\n",
    "import numpy as np\n",
    "np.random.seed(1337)  # for reproducibility\n",
    "\n",
    "from keras.datasets import mnist\n",
    "from keras.models import Sequential\n",
    "from keras.layers import Dense, Dropout, Activation, Flatten\n",
    "from keras.layers import Convolution2D, MaxPooling2D\n",
    "from keras.utils import np_utils\n",
    "\n",
    "batch_size = 128\n",
    "nb_classes = 10\n",
    "nb_epoch = 12\n",
    "\n",
    "# input image dimensions\n",
    "img_rows, img_cols = 28, 28\n",
    "# number of convolutional filters to use\n",
    "nb_filters = 32\n",
    "# size of pooling area for max pooling\n",
    "nb_pool = 2\n",
    "# convolution kernel size\n",
    "nb_conv = 3\n",
    "\n",
    "# the data, shuffled and split between train and test sets\n",
    "#(X_train, y_train), (X_test, y_test) = (data,target),(test_data,test_target)\n",
    "(X_train, y_train), (X_test, y_test) = mnist.load_data()\n",
    "X_train = X_train.reshape(X_train.shape[0], 1, img_rows, img_cols)\n",
    "X_test = X_test.reshape(X_test.shape[0], 1, img_rows, img_cols)\n",
    "X_train = X_train.astype('float32')\n",
    "X_test = X_test.astype('float32')\n",
    "X_train /= 255\n",
    "X_test /= 255\n",
    "print('X_train shape:', X_train.shape)\n",
    "print(X_train.shape[0], 'train samples')\n",
    "print(X_test.shape[0], 'test samples')\n",
    "\n",
    "# convert class vectors to binary class matrices\n",
    "Y_train = np_utils.to_categorical(y_train, nb_classes)\n",
    "Y_test = np_utils.to_categorical(y_test, nb_classes)\n",
    "\n",
    "model = Sequential()\n",
    "\n",
    "model.add(Convolution2D(nb_filters, nb_conv, nb_conv,\n",
    "                        border_mode='valid',\n",
    "                        input_shape=(1, img_rows, img_cols)))\n",
    "model.add(Activation('relu'))\n",
    "model.add(Convolution2D(nb_filters, nb_conv, nb_conv))\n",
    "model.add(Activation('relu'))\n",
    "model.add(MaxPooling2D(pool_size=(nb_pool, nb_pool)))\n",
    "model.add(Dropout(0.25))\n",
    "\n",
    "model.add(Flatten())\n",
    "model.add(Dense(128))\n",
    "model.add(Activation('relu'))\n",
    "model.add(Dropout(0.5))\n",
    "model.add(Dense(nb_classes))\n",
    "model.add(Activation('softmax'))\n",
    "\n",
    "model.compile(loss='categorical_crossentropy',\n",
    "              optimizer='adadelta',\n",
    "              metrics=['accuracy'])\n",
    "\n",
    "model.fit(X_train, Y_train, batch_size=batch_size, nb_epoch=nb_epoch,\n",
    "          verbose=1, validation_data=(X_test, Y_test))\n",
    "score = model.evaluate(X_test, Y_test, verbose=0)\n",
    "print('Test score:', score[0])\n",
    "print('Test accuracy:', score[1])"
   ]
  },
  {
   "cell_type": "code",
   "execution_count": 4,
   "metadata": {
    "collapsed": false
   },
   "outputs": [
    {
     "name": "stdout",
     "output_type": "stream",
     "text": [
      "60000 train samples\n",
      "10000 test samples\n",
      "____________________________________________________________________________________________________\n",
      "Layer (type)                     Output Shape          Param #     Connected to                     \n",
      "====================================================================================================\n",
      "dense_7 (Dense)                  (None, 512)           401920      dense_input_3[0][0]              \n",
      "____________________________________________________________________________________________________\n",
      "activation_7 (Activation)        (None, 512)           0           dense_7[0][0]                    \n",
      "____________________________________________________________________________________________________\n",
      "dropout_5 (Dropout)              (None, 512)           0           activation_7[0][0]               \n",
      "____________________________________________________________________________________________________\n",
      "dense_8 (Dense)                  (None, 512)           262656      dropout_5[0][0]                  \n",
      "____________________________________________________________________________________________________\n",
      "activation_8 (Activation)        (None, 512)           0           dense_8[0][0]                    \n",
      "____________________________________________________________________________________________________\n",
      "dropout_6 (Dropout)              (None, 512)           0           activation_8[0][0]               \n",
      "____________________________________________________________________________________________________\n",
      "dense_9 (Dense)                  (None, 10)            5130        dropout_6[0][0]                  \n",
      "____________________________________________________________________________________________________\n",
      "activation_9 (Activation)        (None, 10)            0           dense_9[0][0]                    \n",
      "====================================================================================================\n",
      "Total params: 669706\n",
      "____________________________________________________________________________________________________\n",
      "Train on 60000 samples, validate on 10000 samples\n",
      "Epoch 1/20\n",
      "60000/60000 [==============================] - 9s - loss: 0.2420 - acc: 0.9249 - val_loss: 0.0973 - val_acc: 0.9702\n",
      "Epoch 2/20\n",
      "60000/60000 [==============================] - 10s - loss: 0.1009 - acc: 0.9697 - val_loss: 0.0852 - val_acc: 0.9747\n",
      "Epoch 3/20\n",
      "60000/60000 [==============================] - 10s - loss: 0.0751 - acc: 0.9773 - val_loss: 0.0887 - val_acc: 0.9747\n",
      "Epoch 4/20\n",
      "60000/60000 [==============================] - 10s - loss: 0.0605 - acc: 0.9817 - val_loss: 0.0750 - val_acc: 0.9790\n",
      "Epoch 5/20\n",
      "60000/60000 [==============================] - 10s - loss: 0.0509 - acc: 0.9844 - val_loss: 0.0738 - val_acc: 0.9801\n",
      "Epoch 6/20\n",
      "60000/60000 [==============================] - 10s - loss: 0.0442 - acc: 0.9869 - val_loss: 0.0710 - val_acc: 0.9823\n",
      "Epoch 7/20\n",
      "60000/60000 [==============================] - 10s - loss: 0.0385 - acc: 0.9882 - val_loss: 0.0731 - val_acc: 0.9831\n",
      "Epoch 8/20\n",
      "60000/60000 [==============================] - 10s - loss: 0.0355 - acc: 0.9895 - val_loss: 0.0854 - val_acc: 0.9810\n",
      "Epoch 9/20\n",
      "60000/60000 [==============================] - 12s - loss: 0.0320 - acc: 0.9905 - val_loss: 0.1006 - val_acc: 0.9799\n",
      "Epoch 10/20\n",
      "60000/60000 [==============================] - 11s - loss: 0.0296 - acc: 0.9915 - val_loss: 0.0958 - val_acc: 0.9820\n",
      "Epoch 11/20\n",
      "60000/60000 [==============================] - 12s - loss: 0.0267 - acc: 0.9923 - val_loss: 0.0968 - val_acc: 0.9825\n",
      "Epoch 12/20\n",
      "60000/60000 [==============================] - 11s - loss: 0.0252 - acc: 0.9928 - val_loss: 0.1119 - val_acc: 0.9795\n",
      "Epoch 13/20\n",
      "60000/60000 [==============================] - 11s - loss: 0.0237 - acc: 0.9934 - val_loss: 0.0921 - val_acc: 0.9829\n",
      "Epoch 14/20\n",
      "60000/60000 [==============================] - 11s - loss: 0.0224 - acc: 0.9940 - val_loss: 0.1098 - val_acc: 0.9817\n",
      "Epoch 15/20\n",
      "60000/60000 [==============================] - 12s - loss: 0.0224 - acc: 0.9936 - val_loss: 0.0855 - val_acc: 0.9848\n",
      "Epoch 16/20\n",
      "60000/60000 [==============================] - 12s - loss: 0.0209 - acc: 0.9941 - val_loss: 0.0974 - val_acc: 0.9836\n",
      "Epoch 17/20\n",
      "60000/60000 [==============================] - 11s - loss: 0.0186 - acc: 0.9950 - val_loss: 0.1035 - val_acc: 0.9834\n",
      "Epoch 18/20\n",
      "60000/60000 [==============================] - 11s - loss: 0.0183 - acc: 0.9950 - val_loss: 0.1092 - val_acc: 0.9818\n",
      "Epoch 19/20\n",
      "60000/60000 [==============================] - 11s - loss: 0.0206 - acc: 0.9947 - val_loss: 0.1217 - val_acc: 0.9825\n",
      "Epoch 20/20\n",
      "60000/60000 [==============================] - 12s - loss: 0.0184 - acc: 0.9953 - val_loss: 0.1189 - val_acc: 0.9806\n",
      "Test score: 0.118942114664\n",
      "Test accuracy: 0.9806\n"
     ]
    }
   ],
   "source": [
    "'''Trains a simple deep NN on the MNIST dataset.\n",
    "Gets to 98.40% test accuracy after 20 epochs\n",
    "(there is *a lot* of margin for parameter tuning).\n",
    "2 seconds per epoch on a K520 GPU.\n",
    "'''\n",
    "\n",
    "from __future__ import print_function\n",
    "import numpy as np\n",
    "np.random.seed(1337)  # for reproducibility\n",
    "\n",
    "from keras.datasets import mnist\n",
    "from keras.models import Sequential\n",
    "from keras.layers.core import Dense, Dropout, Activation\n",
    "from keras.optimizers import SGD, Adam, RMSprop\n",
    "from keras.utils import np_utils\n",
    "\n",
    "\n",
    "batch_size = 128\n",
    "nb_classes = 10\n",
    "nb_epoch = 20\n",
    "\n",
    "# the data, shuffled and split between train and test sets\n",
    "(X_train, y_train), (X_test, y_test) = mnist.load_data()\n",
    "\n",
    "X_train = X_train.reshape(60000, 784)\n",
    "X_test = X_test.reshape(10000, 784)\n",
    "X_train = X_train.astype('float32')\n",
    "X_test = X_test.astype('float32')\n",
    "X_train /= 255\n",
    "X_test /= 255\n",
    "print(X_train.shape[0], 'train samples')\n",
    "print(X_test.shape[0], 'test samples')\n",
    "\n",
    "# convert class vectors to binary class matrices\n",
    "Y_train = np_utils.to_categorical(y_train, nb_classes)\n",
    "Y_test = np_utils.to_categorical(y_test, nb_classes)\n",
    "\n",
    "model = Sequential()\n",
    "model.add(Dense(512, input_shape=(784,)))\n",
    "model.add(Activation('relu'))\n",
    "model.add(Dropout(0.2))\n",
    "model.add(Dense(512))\n",
    "model.add(Activation('relu'))\n",
    "model.add(Dropout(0.2))\n",
    "model.add(Dense(10))\n",
    "model.add(Activation('softmax'))\n",
    "\n",
    "model.summary()\n",
    "\n",
    "model.compile(loss='categorical_crossentropy',\n",
    "              optimizer=RMSprop(),\n",
    "              metrics=['accuracy'])\n",
    "\n",
    "history = model.fit(X_train, Y_train,\n",
    "                    batch_size=batch_size, nb_epoch=nb_epoch,\n",
    "                    verbose=1, validation_data=(X_test, Y_test))\n",
    "score = model.evaluate(X_test, Y_test, verbose=0)\n",
    "print('Test score:', score[0])\n",
    "print('Test accuracy:', score[1])"
   ]
  },
  {
   "cell_type": "code",
   "execution_count": null,
   "metadata": {
    "collapsed": true
   },
   "outputs": [],
   "source": []
  }
 ],
 "metadata": {
  "kernelspec": {
   "display_name": "Python 2",
   "language": "python",
   "name": "python2"
  },
  "language_info": {
   "codemirror_mode": {
    "name": "ipython",
    "version": 2
   },
   "file_extension": ".py",
   "mimetype": "text/x-python",
   "name": "python",
   "nbconvert_exporter": "python",
   "pygments_lexer": "ipython2",
   "version": "2.7.11"
  }
 },
 "nbformat": 4,
 "nbformat_minor": 0
}
