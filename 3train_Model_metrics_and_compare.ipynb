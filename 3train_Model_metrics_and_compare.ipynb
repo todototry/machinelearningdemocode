{
 "cells": [
  {
   "cell_type": "code",
   "execution_count": 6,
   "metadata": {
    "collapsed": true
   },
   "outputs": [],
   "source": [
    "# 1. train , test ,different models.\n",
    "# 2. 模型评价指标的使用\n",
    "# 3. 模型的筛选\n",
    "# 4. 不同模型的train速度，predict precise对比\n",
    "# Note: 为当前软硬件环境添加watermark说明\n",
    "\n",
    "#参考：\n",
    "# 1. 各类模型的accuracy precision  recall 的对比： \n",
    "#       Basic Usage:     http://bugra.github.io/work/notes/2014-11-22/an-introduction-to-supervised-learning-scikit-learn/\n",
    "#       LR VS RBM_LR:  http://scikit-learn.org/0.16/auto_examples/neural_networks/plot_rbm_logistic_classification.html#example-neural-networks-plot-rbm-logistic-classification-py\n",
    "# 2. \n"
   ]
  },
  {
   "cell_type": "code",
   "execution_count": null,
   "metadata": {
    "collapsed": true
   },
   "outputs": [],
   "source": []
  },
  {
   "cell_type": "code",
   "execution_count": 19,
   "metadata": {
    "collapsed": false
   },
   "outputs": [
    {
     "name": "stdout",
     "output_type": "stream",
     "text": [
      "The watermark extension is already loaded. To reload it, use:\n",
      "  %reload_ext watermark\n",
      "Mon Oct 31 2016 \n",
      "\n",
      "CPython 2.7.11\n",
      "IPython 4.0.1\n",
      "\n",
      "numpy 1.11.1\n",
      "scipy 0.17.1\n",
      "pandas 0.17.1\n",
      "matplotlib 1.5.0\n",
      "seaborn 0.7.1\n",
      "sklearn 0.17.1\n",
      "\n",
      "compiler   : MSC v.1500 64 bit (AMD64)\n",
      "system     : Windows\n",
      "release    : 7\n",
      "machine    : AMD64\n",
      "processor  : Intel64 Family 6 Model 60 Stepping 3, GenuineIntel\n",
      "CPU cores  : 4\n",
      "interpreter: 64bit\n"
     ]
    }
   ],
   "source": [
    "%load_ext watermark\n",
    "%watermark -nmv -p numpy,scipy,pandas,matplotlib,seaborn,sklearn"
   ]
  }
 ],
 "metadata": {
  "kernelspec": {
   "display_name": "Python 2",
   "language": "python",
   "name": "python2"
  },
  "language_info": {
   "codemirror_mode": {
    "name": "ipython",
    "version": 2
   },
   "file_extension": ".py",
   "mimetype": "text/x-python",
   "name": "python",
   "nbconvert_exporter": "python",
   "pygments_lexer": "ipython2",
   "version": "2.7.11"
  }
 },
 "nbformat": 4,
 "nbformat_minor": 0
}
